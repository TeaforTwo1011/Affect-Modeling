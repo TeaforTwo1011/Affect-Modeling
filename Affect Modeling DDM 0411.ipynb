{
 "cells": [
  {
   "cell_type": "markdown",
   "id": "0e4d86d5-8b3d-4778-a3da-5c38cfb23321",
   "metadata": {},
   "source": [
    "# Affect Modeling Drift Diffusion Model\n",
    "\n",
    "This is the data analysis file for the DDMs"
   ]
  },
  {
   "cell_type": "markdown",
   "id": "52cb86e7-03a5-414b-b555-fb938d628fc7",
   "metadata": {
    "jp-MarkdownHeadingCollapsed": true
   },
   "source": [
    "## Load the Librarys"
   ]
  },
  {
   "cell_type": "code",
   "execution_count": 1,
   "id": "05aa8e87-777c-4734-be9f-762458f68894",
   "metadata": {},
   "outputs": [
    {
     "name": "stderr",
     "output_type": "stream",
     "text": [
      "Loading required package: coda\n",
      "\n",
      "Linked to JAGS 4.3.1\n",
      "\n",
      "Loaded modules: basemod,bugs\n",
      "\n",
      "module wiener loaded\n",
      "\n",
      "This is loo version 2.6.0\n",
      "\n",
      "- Online documentation and vignettes at mc-stan.org/loo\n",
      "\n",
      "- As of v2.0.0 loo defaults to 1 core but we recommend using as many as possible. Use the 'cores' argument or set options(mc.cores = NUM_CORES) for an entire session. \n",
      "\n",
      "- Windows 10 users: loo may be very slow if 'mc.cores' is set in your .Rprofile file (see https://github.com/stan-dev/loo/issues/94).\n",
      "\n"
     ]
    }
   ],
   "source": [
    "#JAGS & mcmc\n",
    "library(rjags)\n",
    "library(runjags)\n",
    "load.module(\"wiener\")\n",
    "library(coda)\n",
    "#Leave-One-Out Cross Validation\n",
    "library(loo)"
   ]
  },
  {
   "cell_type": "markdown",
   "id": "4ca20824-ce98-47d9-b2c3-c194426ccb11",
   "metadata": {
    "jp-MarkdownHeadingCollapsed": true
   },
   "source": [
    "## Data Preprocessing"
   ]
  },
  {
   "cell_type": "markdown",
   "id": "12771b17-f4fb-4f16-9891-d073fbdfd503",
   "metadata": {},
   "source": [
    "### Import Data"
   ]
  },
  {
   "cell_type": "code",
   "execution_count": 2,
   "id": "7f9efce2-2339-48c9-a883-75b26c3d1135",
   "metadata": {},
   "outputs": [],
   "source": [
    "#set working directory\n",
    "setwd(\"C:/Users/u0145642/OneDrive - KU Leuven/Desktop/PhD/Project 3 Data Analysis Tomi/Simulation 0329\")\n",
    "data <- read.table(\"MD4 simulated data.txt\", header = TRUE, sep = \",\") "
   ]
  },
  {
   "cell_type": "markdown",
   "id": "7751fcf5-bbdd-4c7f-8bc1-74a173b50505",
   "metadata": {},
   "source": [
    "### Data Visualization"
   ]
  },
  {
   "cell_type": "code",
   "execution_count": 3,
   "id": "b8adbdc7-cd1d-47cf-aefe-20a44f67e8c5",
   "metadata": {},
   "outputs": [
    {
     "data": {
      "image/png": "[encoded data removed]",
      "text/plain": [
       "Plot with title \"Histogram of data$RT\""
      ]
     },
     "metadata": {
      "image/png": {
       "height": 420,
       "width": 420
      }
     },
     "output_type": "display_data"
    }
   ],
   "source": [
    "hist(data$RT, breaks = 100)"
   ]
  },
  {
   "cell_type": "markdown",
   "id": "fa09a7f7-2860-42a6-986d-e6880b4dbcfc",
   "metadata": {},
   "source": [
    "### Data Exclusion\n",
    "All RTs greater than 5s were removed."
   ]
  },
  {
   "cell_type": "code",
   "execution_count": 4,
   "id": "7d48af23-ac56-432b-9feb-9e882d74c084",
   "metadata": {},
   "outputs": [
    {
     "data": {
      "image/png": "[encoded data removed]",
      "text/plain": [
       "Plot with title \"Histogram of data$RT\""
      ]
     },
     "metadata": {
      "image/png": {
       "height": 420,
       "width": 420
      }
     },
     "output_type": "display_data"
    }
   ],
   "source": [
    "data <- data[data$RT <= 5, ]\n",
    "hist(data$RT, breaks = 100)"
   ]
  },
  {
   "cell_type": "markdown",
   "id": "7746ad43-bc5f-40b9-95f4-e1a2901eb124",
   "metadata": {},
   "source": [
    "### Data Reorganization"
   ]
  },
  {
   "cell_type": "code",
   "execution_count": 5,
   "id": "9ae24510-6242-46c5-bc08-1e516b84ed69",
   "metadata": {},
   "outputs": [],
   "source": [
    "#the dwiener module work with a univariate distribution\n",
    "#thus the RT hitting the lower boundary is flipped\n",
    "data$RT[data$resp == \"lower\"] = -data$RT[data$resp == \"lower\"] \n",
    "data$R[data$resp == \"lower\"] = 0\n",
    "data$R[data$resp == \"upper\"] = 1\n",
    "\n",
    "#reorganize the data format\n",
    "y = matrix(NA, nrow = 192, ncol = length(unique(data$Sub)))\n",
    "Dec = matrix(NA, nrow = 193, ncol = length(unique(data$Sub)))\n",
    "o.true = matrix(NA, nrow = 192, ncol = length(unique(data$Sub)))\n",
    "o.win = matrix(NA, nrow = 192, ncol = length(unique(data$Sub)))\n",
    "o.loss = matrix(NA, nrow = 192, ncol = length(unique(data$Sub)))\n",
    "p.win = matrix(NA, nrow = 192, ncol = length(unique(data$Sub)))\n",
    "p.loss = matrix(NA, nrow = 192, ncol = length(unique(data$Sub)))\n",
    "\n",
    "for (i in 1:length(unique(data$Sub))){\n",
    "  y[1:length(data$RT[data$Sub==i]),i] = data$RT[data$Sub==i]\n",
    "  Dec[1,i] = 0\n",
    "  Dec[(2:(1+length(data$R[data$Sub==i]))),i] = data$R[data$Sub==i]\n",
    "  o.true[1:length(data$RT[data$Sub==i]),i] = data$outcome.true[data$Sub==i]\n",
    "  o.win[1:length(data$RT[data$Sub==i]),i] = data$outcome.win[data$Sub==i]\n",
    "  o.loss[1:length(data$RT[data$Sub==i]),i]= data$outcome.loss[data$Sub==i]\n",
    "  p.win[1:length(data$RT[data$Sub==i]),i] = data$prob.win[data$Sub==i]\n",
    "  p.loss[1:length(data$RT[data$Sub==i]),i] = data$prob.loss[data$Sub==i]\n",
    "}\n",
    "\n",
    "#feed the matrices to the data list\n",
    "data_model=list(\n",
    "  #allow for different numbers of trials\n",
    "  nTrials = as.numeric(table(data$Sub)),\n",
    "  nSubject = length(unique(data$Sub)),\n",
    "  o.true = o.true,\n",
    "  o.win = o.win,\n",
    "  o.loss = o.loss,\n",
    "  p.win = p.win,\n",
    "  p.loss = p.loss,\n",
    "  y = y,\n",
    "  Dec = Dec)"
   ]
  },
  {
   "cell_type": "markdown",
   "id": "6694c100-80be-48f7-bd56-05a2b16cee60",
   "metadata": {
    "jp-MarkdownHeadingCollapsed": true
   },
   "source": [
    "## MD4"
   ]
  },
  {
   "cell_type": "markdown",
   "id": "88f239be-acf3-47fa-9903-7beb589091d1",
   "metadata": {},
   "source": [
    "### Model Script"
   ]
  },
  {
   "cell_type": "code",
   "execution_count": 6,
   "id": "56fcdf59-3f9b-4812-a5bc-4c8e75b1b6ab",
   "metadata": {},
   "outputs": [],
   "source": [
    "model_String ='\n",
    "model {\n",
    "\n",
    "  #likelihood function\n",
    "  for (i in 1:nSubject){\n",
    "  \n",
    "      #sample from the logit_gamma\n",
    "      gamma[i] = 2 * (1/(1+exp(-logit_gamma[i])))\n",
    "                 \n",
    "    for (j in 1:nTrials[i]) {\n",
    "      \n",
    "      #model the response bias\n",
    "      p[j,i] = z0[i] + z1[i] * (gamma[i]*p.win[j,i]*o.win[j,i] +\n",
    "                      (2-gamma[i])*p.loss[j,i]*o.loss[j,i]) + z_dec[i]* Dec[j,i]\n",
    "      beta[j,i] = 0.8*(1/(1+exp(-p[j,i])))+0.1\n",
    "      \n",
    "      #model the drift rate\n",
    "      delta[j,i] = v0[i] + v1[i] * (o.true[j,i] - (gamma[i]*p.win[j,i]*o.win[j,i] \n",
    "                          + (2-gamma[i])*p.loss[j,i]*o.loss[j,i])) + v_dec[i]*Dec[j,i]\n",
    "  \n",
    "      y[j,i] ~ dwiener(alpha[i], tau[i], beta[j,i], delta[j,i])\n",
    "  \n",
    "    }\n",
    "  }\n",
    "  \n",
    "  #looic\n",
    "   for (i in 1:nSubject){\n",
    "    for (j in 1:nTrials[i]) {\n",
    "     \n",
    "     ld[j,i] = logdensity.wiener(y[j,i], alpha[i], tau[i], beta[j,i],delta[j,i])\n",
    "    }\n",
    "  }\n",
    "  \n",
    "    \n",
    "  #priors\n",
    "  for (i in 1:nSubject) {\n",
    "    \n",
    "    z_dec[i] ~ dnorm(muz_dec, precz_dec)\n",
    "    z0[i] ~ dnorm(muz0, precz0)\n",
    "    z1[i] ~ dnorm(muz1, precz1)\n",
    "    \n",
    "    v_dec[i] ~ dnorm(muv_dec, precv_dec)\n",
    "    v0[i] ~ dnorm(muv0, precv0)\n",
    "    v1[i] ~ dnorm(muv1, precv1)\n",
    "    \n",
    "    alpha[i] ~ dnorm(mualpha,precalpha)\n",
    "    \n",
    "    #beta distribution\n",
    "    logit_gamma[i] ~ dnorm(mugamma, precgamma)\n",
    "    tau[i] ~ dnorm(mutau,prectau)T(0.001, 3)\n",
    "    \n",
    "  }\n",
    "\n",
    "  #hyperpriors\n",
    "   \n",
    "  muz_dec ~ dnorm(0, 1e-3)\n",
    "  muz0 ~ dnorm(0, 1e-3)\n",
    "  muz1 ~ dnorm(0, 1e-3)\n",
    "  muv_dec ~ dnorm(0, 1e-3)\n",
    "  muv0 ~ dnorm(0, 1e-3)\n",
    "  muv1 ~ dnorm(0, 1e-3)\n",
    "  mualpha ~ dunif(.1, 10) \n",
    "  mutau ~ dunif(.0001, 3)\n",
    "  mugamma ~ dnorm(0, 1e-3)\n",
    "  \n",
    "  precz_dec ~ dgamma(.001, .001)\n",
    "  precz0 ~ dgamma(.001, .001)\n",
    "  precz1 ~ dgamma(.001, .001)\n",
    "  precv_dec ~ dgamma(.001, .001)\n",
    "  precv0 ~ dgamma(.001, .001)\n",
    "  precv1 ~ dgamma(.001, .001)\n",
    "  precalpha  ~ dgamma(.001, .001)\n",
    "  prectau ~ dgamma(.001, .001)\n",
    "  precgamma ~ dgamma(.001,.001)\n",
    "}\n",
    "\n",
    "'\n",
    "\n",
    "writeLines(model_String, con = 'Model D4.txt')\n",
    "\n",
    "#init function\n",
    "initfunction <- function(chain){\n",
    "  return(list(\n",
    "    muv_dec = runif(1, -.2, .2),\n",
    "    muv0 = runif(1, -1, 2),\n",
    "    muv1 = runif(1, -1, 1),\n",
    "    muz_dec = runif(1, -1, 1),\n",
    "    muz0 = runif(1, -1, 1),\n",
    "    muz1 = runif(1, -1, 1),\n",
    "    mugamma = runif(1, 0.01, 1.89),\n",
    "    mualpha = runif(1, .8, 4.9),\n",
    "    mutau  = runif(1, .001, .50),\n",
    "    precv_dec = runif(1, 1, 100),\n",
    "    precv0 = runif(1, 1, 100),\n",
    "    precv1 = runif(1, 1, 100),\n",
    "    precz_dec = runif(1, 1, 100),\n",
    "    precz0 = runif(1, 1, 100),\n",
    "    precz1 = runif(1, 1, 100),\n",
    "    precalpha = runif(1, 1, 100),\n",
    "    prectau   = runif(1, 1, 100),\n",
    "    precgamma = runif(1, 1, 100),\n",
    "    y = matrix(NA,nrow = 192, ncol = data_model$nSubject),\n",
    "    .RNG.name = \"lecuyer::RngStream\",\n",
    "    .RNG.seed = sample.int(1e10, 1, replace = F)))\n",
    "}\n",
    "  \n",
    "\n",
    "#Create list of parameters to be monitored\n",
    "parameters <- c(\"alpha\", \"tau\", \"z_dec\", \"z0\", \"z1\", \"v_dec\", \"v0\",\"v1\",\"gamma\",\n",
    "                \"mualpha\", \"mutau\", \"muz_dec\", \"muz0\", \"muz1\", \"muv_dec\", \"muv0\",\"muv1\",\"mugamma\",\n",
    "                \"precalpha\", \"prectau\", \"precz_dec\", \"precz0\", \"precz1\", \"precv_dec\", \"precv0\",\"precv1\",\"precgamma\",\n",
    "                \"ld\")\n",
    "\n"
   ]
  },
  {
   "cell_type": "markdown",
   "id": "19c3c707-81f5-4790-ad9b-21a5750b459e",
   "metadata": {},
   "source": [
    "### Run the MD4"
   ]
  },
  {
   "cell_type": "code",
   "execution_count": 7,
   "id": "2c4b0cc7-b3cd-4305-ba3b-1cbd14f5eff7",
   "metadata": {},
   "outputs": [
    {
     "name": "stdout",
     "output_type": "stream",
     "text": [
      "Calling 8 simulations using the parallel method...\n",
      "Following the progress of chain 1 (the program will wait for all chains\n",
      "to finish before continuing):\n",
      "Welcome to JAGS 4.3.1 on Fri Apr  5 14:48:55 2024\n",
      "JAGS is free software and comes with ABSOLUTELY NO WARRANTY\n",
      "Loading module: basemod: ok\n",
      "Loading module: bugs: ok\n",
      ". Loading module: wiener: ok\n",
      ". Loading module: lecuyer: ok\n",
      ". . Reading data file data.txt\n",
      ". Compiling model graph\n",
      "   Resolving undeclared variables\n",
      "   Allocating nodes\n",
      "Graph information:\n",
      "   Observed stochastic nodes: 7466\n",
      "   Unobserved stochastic nodes: 378\n",
      "   Total graph size: 68398\n",
      ". Reading parameter file inits1.txt\n",
      ". Initializing model\n",
      ". Adapting 1000\n",
      "-------------------------------------------------| 1000\n",
      "++++++++++++++++++++++++++++++++++++++++++++++++++ 100%\n",
      "Adaptation successful\n",
      ". Updating 1000\n",
      "-------------------------------------------------| 1000\n",
      "************************************************** 100%\n",
      ". . . . . . . . . . . . . . . . . . . . . . . . . . . . . Updating 3000\n",
      "-------------------------------------------------| 3000\n",
      "************************************************** 100%\n",
      ". . . . Updating 0\n",
      ". Deleting model\n",
      ". \n",
      "All chains have finished\n",
      "Note: the model did not require adaptation\n"
     ]
    },
    {
     "ename": "ERROR",
     "evalue": "Error in runjags.readin(directory = startinfo$directory, silent.jags = silent.jags, : Simulation numbers 2, 3, 5, 8 appear to have crashed; check the output in failed.jags() for clues\n",
     "output_type": "error",
     "traceback": [
      "Error in runjags.readin(directory = startinfo$directory, silent.jags = silent.jags, : Simulation numbers 2, 3, 5, 8 appear to have crashed; check the output in failed.jags() for clues\nTraceback:\n",
      "1. run.jags(method = \"parallel\", model = \"Model D4.txt\", monitor = parameters, \n .     data = data_model, inits = initfunction, n.chains = 8, adapt = 1000, \n .     burnin = 1000, sample = 1000, thin = 3, modules = c(\"wiener\", \n .         \"lecuyer\"), summarise = F, plots = T)",
      "2. extend.jags(runjags.object = obj, add.monitor = character(0), \n .     drop.monitor = character(0), drop.chain = numeric(0), combine = FALSE, \n .     burnin = burnin, sample = sample, adapt = adapt, noread.monitor = noread.monitor, \n .     jags = jags, silent.jags = silent.jags, summarise = summarise, \n .     thin = thin, keep.jags.files = keep.jags.files, tempdir = tempdir, \n .     jags.refresh = jags.refresh, batch.jags = batch.jags, method = method, \n .     method.options = method.options, ...)",
      "3. runjags.readin(directory = startinfo$directory, silent.jags = silent.jags, \n .     target.adapt = adapt, target.burnin = burnin, target.iters = sample, \n .     n.chains = length(inits), monitor = monitor, method = method, \n .     method.options = method.options, suspended = FALSE, read.monitor = read.monitor, \n .     sub.samples = FALSE, sub.chains = if (runjags.getOption(\"partial.import\") && \n .         !combine) TRUE else FALSE, force.read = length(noread.monitor) > \n .         0)",
      "4. stop(paste(\"Simulation number\", if (pluralsim) \"s\", \" \", paste(which(!successful), \n .     collapse = \", \"), \" appear\", if (!pluralsim) \"s\", \" to have crashed; check the output in failed.jags() for clues\", \n .     sep = \"\"))"
     ]
    },
    {
     "name": "stdout",
     "output_type": "stream",
     "text": [
      "Note: Either one or more simulation(s) failed, or there was an error in\n",
      "processing the results.  You may be able to retrieve any successful\n",
      "simulations using:\n",
      "results.jags(\"C:/Users/u0145642/AppData/Local/Temp/RtmpWMRfZb/runjagsfiles84785feb271\",\n",
      "recover.chains=TRUE)\n",
      "See the help file for that function for possible options.\n",
      "To remove failed simulation folders use cleanup.jags() - this will be\n",
      "run automatically when the runjags package is unloaded\n"
     ]
    }
   ],
   "source": [
    "#Run the model in runjags\n",
    "startTime = proc.time()\n",
    "jagsModel <- run.jags(method = \"parallel\",\n",
    "                      model = 'Model D4.txt',\n",
    "                      monitor = parameters,\n",
    "                      data = data_model,\n",
    "                      inits = initfunction,\n",
    "                      n.chains = 8,\n",
    "                      adapt = 1000, #how long the samplers \"tune\"\n",
    "                      burnin = 1000, #how long of a burn in\n",
    "                      sample = 1000,\n",
    "                      thin = 3, #thin if high autocorrelation to avoid huge files\n",
    "                      modules = c(\"wiener\", \"lecuyer\"),\n",
    "                      summarise = F,\n",
    "                      plots = T)\n",
    "stopTime = proc.time()\n",
    "elapsedTime = stopTime - startTime\n",
    "show(elapsedTime/60) #Tells how long it took to run analysis\n"
   ]
  },
  {
   "cell_type": "code",
   "execution_count": 9,
   "id": "7c2cd542-999d-4b34-bf0a-801b51a784c2",
   "metadata": {},
   "outputs": [
    {
     "name": "stdout",
     "output_type": "stream",
     "text": [
      "Note: the model did not require adaptation\n"
     ]
    },
    {
     "name": "stderr",
     "output_type": "stream",
     "text": [
      "Warning message in runjags.readin(directory = runjags.object$directory, silent.jags = runjags.object$silent.jags, :\n",
      "\"Chains 2, 3, 5, 8 (simulations 2, 3, 5, 8) appear to have crashed and will not be imported; check the output in failed.jags() for clues\"\n"
     ]
    },
    {
     "name": "stdout",
     "output_type": "stream",
     "text": [
      "Simulation complete.  Reading coda files...\n",
      "Coda files loaded successfully\n",
      "Finished running the simulation\n"
     ]
    }
   ],
   "source": [
    "jagsMD4 = results.jags(\"C:/Users/u0145642/AppData/Local/Temp/RtmpWMRfZb/runjagsfiles84785feb271\",\n",
    "recover.chains=TRUE)"
   ]
  },
  {
   "cell_type": "markdown",
   "id": "21c1a1a1-4028-43c8-bc4a-cb520cf94bd7",
   "metadata": {},
   "source": [
    "### Save/ Load MD4"
   ]
  },
  {
   "cell_type": "code",
   "execution_count": 10,
   "id": "e74e44da-5f18-496e-8499-fac2e0541c01",
   "metadata": {},
   "outputs": [],
   "source": [
    "save(jagsMD4, file = \"jagsMD4.RData\")\n",
    "#load(\"jags_sample_MD4.RData\")"
   ]
  },
  {
   "cell_type": "markdown",
   "id": "a90c15e2-f74d-4635-9f30-2313931341a8",
   "metadata": {},
   "source": [
    "### Posterior Samples and Posterior Means in MD4"
   ]
  },
  {
   "cell_type": "code",
   "execution_count": 28,
   "id": "5b5c9d4e-4fe5-4a74-b357-887feda3beb4",
   "metadata": {},
   "outputs": [],
   "source": [
    "num_chain = length(jagsMD4[[1]])\n",
    "name_parameters = c(\"alpha\", \"tau\", \"z_dec\",\"z0\",\"z1\",\"v_dec\",\"v0\",\"v1\",\"gamma\")\n",
    "posterior_samples_names = paste(\"mu\",name_parameters, sep = \"\")\n",
    "posterior_samples = setNames(replicate(length(posterior_samples_names), c(NULL), simplify = FALSE), posterior_samples_names)\n",
    "\n",
    "for (name in posterior_samples_names){\n",
    "  for (i in 1:num_chain){\n",
    "    posterior_samples_one_chain = as.numeric(jagsMD4[[1]][[i]][,grep(paste(\"^\",name,sep=\"\"), colnames(jagsMD4[[1]][[i]]))])\n",
    "    posterior_samples[[name]] = rbind(posterior_samples[[name]],posterior_samples_one_chain)\n",
    "  }\n",
    "}\n",
    "\n",
    "mcmcMat = as.matrix(jagsMD4[[1]], chains = F)\n",
    "quantiles = apply(mcmcMat, 2, function(x) quantile(x, c(0.025, 0.975)))\n",
    "posterior_mean =  colMeans(mcmcMat)"
   ]
  },
  {
   "cell_type": "markdown",
   "id": "e8bbc91e-5f30-4df9-824d-0da5c729c5fd",
   "metadata": {},
   "source": [
    "### Marginal Posterior Visualization of hyper priors"
   ]
  },
  {
   "cell_type": "code",
   "execution_count": 34,
   "id": "fac4107c-8732-487f-8a43-0fb34cc96afc",
   "metadata": {
    "scrolled": true
   },
   "outputs": [
    {
     "data": {
      "text/plain": [
       "<environment: R_GlobalEnv>"
      ]
     },
     "metadata": {},
     "output_type": "display_data"
    },
    {
     "data": {
      "image/png": "[encoded data removed]",
      "text/plain": [
       "Plot with title \"[\"",
       "Plot with title \"mu\"",
       "Plot with title \"gamma\""
      ]
     },
     "metadata": {
      "image/png": {
       "height": 900,
       "width": 900
      }
     },
     "output_type": "display_data"
    }
   ],
   "source": [
    "list2env(posterior_samples, envir = .GlobalEnv)\n",
    "par(mfrow = c(3, 3))\n",
    "options(repr.plot.width=15, repr.plot.height=15)  \n",
    "for (name in name_parameters){\n",
    "  estimated_parameter= get(paste(\"mu\",name, sep = \"\"))\n",
    "  hist(estimated_parameter, main=bquote(mu[.(as.name(name))]),pch=16,cex.main=2.5,cex.axis = 1.5,cex.lab = 1.5, breaks =200)\n",
    "}"
   ]
  },
  {
   "cell_type": "markdown",
   "id": "7ca313fa-ef20-4e42-8e13-1c62d3d2f57e",
   "metadata": {},
   "source": [
    "### Leave-One-Out Cross Validation"
   ]
  },
  {
   "cell_type": "code",
   "execution_count": 44,
   "id": "d798f80b-5eca-4718-b011-08138584793d",
   "metadata": {},
   "outputs": [
    {
     "name": "stderr",
     "output_type": "stream",
     "text": [
      "Warning message:\n",
      "\"Relative effective sample sizes ('r_eff' argument) not specified.\n",
      "For models fit with MCMC, the reported PSIS effective sample sizes and \n",
      "MCSE estimates will be over-optimistic.\"\n",
      "Warning message:\n",
      "\"Some Pareto k diagnostic values are slightly high. See help('pareto-k-diagnostic') for details.\n",
      "\"\n"
     ]
    },
    {
     "data": {
      "text/plain": [
       "\n",
       "Computed from 1000 by 7466 log-likelihood matrix\n",
       "\n",
       "         Estimate    SE\n",
       "elpd_loo  -5752.2 114.2\n",
       "p_loo        72.2   1.9\n",
       "looic     11504.5 228.3\n",
       "------\n",
       "Monte Carlo SE of elpd_loo is 0.3.\n",
       "\n",
       "Pareto k diagnostic values:\n",
       "                         Count Pct.    Min. n_eff\n",
       "(-Inf, 0.5]   (good)     7464  100.0%  464       \n",
       " (0.5, 0.7]   (ok)          2    0.0%  377       \n",
       "   (0.7, 1]   (bad)         0    0.0%  <NA>      \n",
       "   (1, Inf)   (very bad)    0    0.0%  <NA>      \n",
       "\n",
       "All Pareto k estimates are ok (k < 0.7).\n",
       "See help('pareto-k-diagnostic') for details."
      ]
     },
     "metadata": {},
     "output_type": "display_data"
    }
   ],
   "source": [
    "#get the log density\n",
    "ld = (as.matrix(jagsMD4[[1]][[1]][,grep(\"^ld\", colnames(jagsMD4[[1]][[1]]))])+\n",
    "      as.matrix(jagsMD4[[1]][[2]][,grep(\"^ld\", colnames(jagsMD4[[1]][[2]]))])+\n",
    "      as.matrix(jagsMD4[[1]][[3]][,grep(\"^ld\", colnames(jagsMD4[[1]][[3]]))])+\n",
    "      as.matrix(jagsMD4[[1]][[4]][,grep(\"^ld\", colnames(jagsMD4[[1]][[4]]))]))/4\n",
    "\n",
    "loo(ld)"
   ]
  },
  {
   "cell_type": "markdown",
   "id": "999e9f66-3112-43bb-aafa-72116a4cb3c1",
   "metadata": {},
   "source": [
    "### Hypothesis Testing\n",
    "The hypothesis here is whether $\\gamma = 1$"
   ]
  },
  {
   "cell_type": "code",
   "execution_count": 45,
   "id": "61b7c5b5-50f8-49f8-a796-19a439e64780",
   "metadata": {},
   "outputs": [
    {
     "data": {
      "text/plain": [
       "\n",
       "\tOne Sample t-test\n",
       "\n",
       "data:  mugamma\n",
       "t = 78.674, df = 3999, p-value < 2.2e-16\n",
       "alternative hypothesis: true mean is not equal to 0\n",
       "95 percent confidence interval:\n",
       " 0.2020400 0.2123671\n",
       "sample estimates:\n",
       "mean of x \n",
       "0.2072035 \n"
      ]
     },
     "metadata": {},
     "output_type": "display_data"
    }
   ],
   "source": [
    "t.test(mugamma, mu = 0)"
   ]
  },
  {
   "cell_type": "code",
   "execution_count": 46,
   "id": "5007b0cd-9898-4130-8c49-323e9edd1487",
   "metadata": {},
   "outputs": [
    {
     "data": {
      "text/plain": [
       "\n",
       "\tOne Sample t-test\n",
       "\n",
       "data:  posterior_mean[grep(\"^gamma.*$\", names(posterior_mean))]\n",
       "t = 19.862, df = 39, p-value < 2.2e-16\n",
       "alternative hypothesis: true mean is not equal to 0\n",
       "95 percent confidence interval:\n",
       " 0.9761479 1.1975123\n",
       "sample estimates:\n",
       "mean of x \n",
       "  1.08683 \n"
      ]
     },
     "metadata": {},
     "output_type": "display_data"
    }
   ],
   "source": [
    "t.test(posterior_mean[grep(\"^gamma.*$\", names(posterior_mean))], mu = 0)"
   ]
  },
  {
   "cell_type": "code",
   "execution_count": null,
   "id": "f3082932-9ba1-40e4-9e72-cec4af6b7cb7",
   "metadata": {},
   "outputs": [],
   "source": []
  }
 ],
 "metadata": {
  "kernelspec": {
   "display_name": "R 4.0.0",
   "language": "R",
   "name": "ir35"
  },
  "language_info": {
   "codemirror_mode": "r",
   "file_extension": ".r",
   "mimetype": "text/x-r-source",
   "name": "R",
   "pygments_lexer": "r",
   "version": "4.3.1"
  }
 },
 "nbformat": 4,
 "nbformat_minor": 5
}
